{
 "cells": [
  {
   "cell_type": "markdown",
   "id": "66eb1e89",
   "metadata": {},
   "source": [
    "# This version will preprocess the data and save it for other versions to load"
   ]
  },
  {
   "cell_type": "markdown",
   "id": "6f7f89de",
   "metadata": {},
   "source": [
    "import files"
   ]
  },
  {
   "cell_type": "code",
   "execution_count": 1,
   "id": "af3fdca3",
   "metadata": {},
   "outputs": [],
   "source": [
    "import numpy as np\n",
    "import pandas as pd\n",
    "from sklearn.model_selection import train_test_split\n",
    "from nltk.tokenize import RegexpTokenizer\n",
    "from nltk import FreqDist\n",
    "import matplotlib.pyplot as plt\n",
    "from matplotlib.ticker import MaxNLocator\n",
    "from sklearn.feature_extraction.text import TfidfVectorizer\n",
    "from sklearn.naive_bayes import MultinomialNB\n",
    "from sklearn.model_selection import cross_val_score\n",
    "import nltk\n",
    "nltk.download('stopwords', quiet=True)\n",
    "from nltk.corpus import stopwords\n",
    "from nltk.stem.snowball import SnowballStemmer\n",
    "from nltk.tokenize import sent_tokenize\n",
    "from operator import itemgetter\n",
    "from nltk.stem import WordNetLemmatizer\n",
    "from sklearn.preprocessing import StandardScaler\n",
    "# from sklearn.metrics import confusion_matrix\n",
    "# from sklearn.metrics import ConfusionMatrixDisplay\n",
    "from pathlib import Path"
   ]
  },
  {
   "cell_type": "markdown",
   "id": "27e026b6",
   "metadata": {},
   "source": [
    "load"
   ]
  },
  {
   "cell_type": "code",
   "execution_count": 2,
   "id": "a61939e9",
   "metadata": {},
   "outputs": [],
   "source": [
    "df = pd.read_csv('../data/tweets.csv', encoding='unicode_escape')"
   ]
  },
  {
   "cell_type": "markdown",
   "id": "b13bbf83",
   "metadata": {},
   "source": [
    "explore"
   ]
  },
  {
   "cell_type": "code",
   "execution_count": 3,
   "id": "31927135",
   "metadata": {},
   "outputs": [
    {
     "name": "stdout",
     "output_type": "stream",
     "text": [
      "<class 'pandas.core.frame.DataFrame'>\n",
      "RangeIndex: 9093 entries, 0 to 9092\n",
      "Data columns (total 3 columns):\n",
      " #   Column                                              Non-Null Count  Dtype \n",
      "---  ------                                              --------------  ----- \n",
      " 0   tweet_text                                          9092 non-null   object\n",
      " 1   emotion_in_tweet_is_directed_at                     3291 non-null   object\n",
      " 2   is_there_an_emotion_directed_at_a_brand_or_product  9093 non-null   object\n",
      "dtypes: object(3)\n",
      "memory usage: 213.2+ KB\n"
     ]
    }
   ],
   "source": [
    "df.info()"
   ]
  },
  {
   "cell_type": "markdown",
   "id": "b31d6964",
   "metadata": {},
   "source": [
    "rename"
   ]
  },
  {
   "cell_type": "code",
   "execution_count": 4,
   "id": "2279162f",
   "metadata": {},
   "outputs": [],
   "source": [
    "df.rename(columns={'tweet_text': 'text',\n",
    "                   'emotion_in_tweet_is_directed_at': 'company',\n",
    "                   'is_there_an_emotion_directed_at_a_brand_or_product': 'sentiment'},\n",
    "          inplace = True)"
   ]
  },
  {
   "cell_type": "markdown",
   "id": "4626877b",
   "metadata": {},
   "source": [
    "look at missing values"
   ]
  },
  {
   "cell_type": "code",
   "execution_count": 5,
   "id": "34fc718c",
   "metadata": {},
   "outputs": [
    {
     "data": {
      "text/html": [
       "<div>\n",
       "<style scoped>\n",
       "    .dataframe tbody tr th:only-of-type {\n",
       "        vertical-align: middle;\n",
       "    }\n",
       "\n",
       "    .dataframe tbody tr th {\n",
       "        vertical-align: top;\n",
       "    }\n",
       "\n",
       "    .dataframe thead th {\n",
       "        text-align: right;\n",
       "    }\n",
       "</style>\n",
       "<table border=\"1\" class=\"dataframe\">\n",
       "  <thead>\n",
       "    <tr style=\"text-align: right;\">\n",
       "      <th></th>\n",
       "      <th>text</th>\n",
       "      <th>company</th>\n",
       "      <th>sentiment</th>\n",
       "    </tr>\n",
       "  </thead>\n",
       "  <tbody>\n",
       "    <tr>\n",
       "      <th>6</th>\n",
       "      <td>NaN</td>\n",
       "      <td>NaN</td>\n",
       "      <td>No emotion toward brand or product</td>\n",
       "    </tr>\n",
       "  </tbody>\n",
       "</table>\n",
       "</div>"
      ],
      "text/plain": [
       "  text company                           sentiment\n",
       "6  NaN     NaN  No emotion toward brand or product"
      ]
     },
     "execution_count": 5,
     "metadata": {},
     "output_type": "execute_result"
    }
   ],
   "source": [
    "df[df.text.isna()]"
   ]
  },
  {
   "cell_type": "markdown",
   "id": "7c6ed440",
   "metadata": {},
   "source": [
    "can't do anything without the text of the tweet, so drop"
   ]
  },
  {
   "cell_type": "code",
   "execution_count": 6,
   "id": "4d173819",
   "metadata": {},
   "outputs": [],
   "source": [
    "df.dropna(subset=['text'], inplace=True)"
   ]
  },
  {
   "cell_type": "markdown",
   "id": "a485dedd",
   "metadata": {},
   "source": [
    "check duplicates"
   ]
  },
  {
   "cell_type": "code",
   "execution_count": 7,
   "id": "f8ac1271",
   "metadata": {},
   "outputs": [
    {
     "data": {
      "text/plain": [
       "False    9070\n",
       "True       22\n",
       "Name: count, dtype: int64"
      ]
     },
     "execution_count": 7,
     "metadata": {},
     "output_type": "execute_result"
    }
   ],
   "source": [
    "df.duplicated().value_counts()"
   ]
  },
  {
   "cell_type": "markdown",
   "id": "2b67a662",
   "metadata": {},
   "source": [
    "drop duplicates, just text, doesn't matter if same text with different sentiment, etc. (still drop)"
   ]
  },
  {
   "cell_type": "code",
   "execution_count": 8,
   "id": "e27a1f57",
   "metadata": {},
   "outputs": [],
   "source": [
    "df.drop_duplicates(subset=['text'], inplace=True)"
   ]
  },
  {
   "cell_type": "markdown",
   "id": "162f5326",
   "metadata": {},
   "source": [
    "edit, simplify, rename"
   ]
  },
  {
   "cell_type": "code",
   "execution_count": 9,
   "id": "0a299eba",
   "metadata": {},
   "outputs": [
    {
     "data": {
      "text/plain": [
       "sentiment\n",
       "No emotion toward brand or product    5372\n",
       "Positive emotion                      2968\n",
       "Negative emotion                       569\n",
       "I can't tell                           156\n",
       "Name: count, dtype: int64"
      ]
     },
     "execution_count": 9,
     "metadata": {},
     "output_type": "execute_result"
    }
   ],
   "source": [
    "df.sentiment.value_counts()"
   ]
  },
  {
   "cell_type": "markdown",
   "id": "67f9abb9",
   "metadata": {},
   "source": [
    "simplify sentiment into binary, reduce class imbalance"
   ]
  },
  {
   "cell_type": "code",
   "execution_count": 10,
   "id": "82845dea",
   "metadata": {},
   "outputs": [],
   "source": [
    "df['sentiment'].replace({'No emotion toward brand or product': 0,\n",
    "                         'Positive emotion': 1,\n",
    "                         'Negative emotion': 0,\n",
    "                         \"I can't tell\": 0\n",
    "                        }, inplace=True)"
   ]
  },
  {
   "cell_type": "code",
   "execution_count": 11,
   "id": "2db2d9a4",
   "metadata": {},
   "outputs": [
    {
     "data": {
      "text/plain": [
       "sentiment\n",
       "0    6097\n",
       "1    2968\n",
       "Name: count, dtype: int64"
      ]
     },
     "execution_count": 11,
     "metadata": {},
     "output_type": "execute_result"
    }
   ],
   "source": [
    "df.sentiment.value_counts()"
   ]
  },
  {
   "cell_type": "markdown",
   "id": "0b81c942",
   "metadata": {},
   "source": [
    "look at company"
   ]
  },
  {
   "cell_type": "code",
   "execution_count": 12,
   "id": "ff850c47",
   "metadata": {},
   "outputs": [
    {
     "data": {
      "text/plain": [
       "company\n",
       "iPad                               943\n",
       "Apple                              659\n",
       "iPad or iPhone App                 469\n",
       "Google                             428\n",
       "iPhone                             296\n",
       "Other Google product or service    293\n",
       "Android App                         80\n",
       "Android                             77\n",
       "Other Apple product or service      35\n",
       "Name: count, dtype: int64"
      ]
     },
     "execution_count": 12,
     "metadata": {},
     "output_type": "execute_result"
    }
   ],
   "source": [
    "df.company.value_counts()"
   ]
  },
  {
   "cell_type": "code",
   "execution_count": 13,
   "id": "84911216",
   "metadata": {},
   "outputs": [],
   "source": [
    "df['company'].replace(['iPad', 'Apple', 'iPad or iPhone App', 'iPhone', 'Other Apple product or service'], 'apple',\n",
    "                     inplace=True)\n",
    "df['company'].replace(['Google', 'Other Google product or service', 'Android App', 'Android'], 'google',\n",
    "                     inplace=True)\n",
    "df['company'].fillna('other',\n",
    "                    inplace=True)"
   ]
  },
  {
   "cell_type": "code",
   "execution_count": 14,
   "id": "a9ae7c78",
   "metadata": {},
   "outputs": [
    {
     "data": {
      "text/plain": [
       "company\n",
       "other     5785\n",
       "apple     2402\n",
       "google     878\n",
       "Name: count, dtype: int64"
      ]
     },
     "execution_count": 14,
     "metadata": {},
     "output_type": "execute_result"
    }
   ],
   "source": [
    "df.company.value_counts()"
   ]
  },
  {
   "cell_type": "markdown",
   "id": "f155388e",
   "metadata": {},
   "source": [
    "deal with missing company\n",
    "missing company values are informed by the text, and the text should be all lower case to simplify this\n",
    "no big deal because we want all lower case for train and test anyway"
   ]
  },
  {
   "cell_type": "code",
   "execution_count": 15,
   "id": "0ff94714",
   "metadata": {},
   "outputs": [],
   "source": [
    "df['text'] = df['text'].str.lower()"
   ]
  },
  {
   "cell_type": "code",
   "execution_count": 16,
   "id": "fb031d35",
   "metadata": {},
   "outputs": [],
   "source": [
    "apple_words = ['ipad', 'apple', 'iphone', 'itunes', 'ipad2']\n",
    "google_words = ['google', 'android', 'blogger']\n",
    "\n",
    "basic_token_pattern = r\"(?u)\\b\\w\\w+\\b\"\n",
    "tokenizer = RegexpTokenizer(basic_token_pattern)\n",
    "\n",
    "def company_fix(text, company):\n",
    "    if company != 'other':\n",
    "        return company\n",
    "    else:\n",
    "        apple, google = False, False\n",
    "        text_tokenized = tokenizer.tokenize(text)\n",
    "        for word in apple_words:\n",
    "            if word in text_tokenized:\n",
    "                apple = True\n",
    "                break\n",
    "        for word in google_words:\n",
    "            if word in text_tokenized:\n",
    "                google = True\n",
    "                break\n",
    "        if apple & ~google:\n",
    "            return 'apple'\n",
    "        elif google & ~apple:\n",
    "            return 'google'\n",
    "        elif apple & google:\n",
    "            return 'both'\n",
    "        else:\n",
    "            return 'neither'\n",
    "\n",
    "df['company'] = df.apply(lambda x: company_fix(x.text, x.company), axis=1)"
   ]
  },
  {
   "cell_type": "code",
   "execution_count": 17,
   "id": "eb5b18cb",
   "metadata": {},
   "outputs": [
    {
     "data": {
      "text/plain": [
       "company\n",
       "apple      5390\n",
       "google     2783\n",
       "neither     716\n",
       "both        176\n",
       "Name: count, dtype: int64"
      ]
     },
     "execution_count": 17,
     "metadata": {},
     "output_type": "execute_result"
    }
   ],
   "source": [
    "df.company.value_counts()"
   ]
  },
  {
   "cell_type": "markdown",
   "id": "e1549621",
   "metadata": {},
   "source": [
    "could do more here to explore the neither and both values\n",
    "\n",
    "move on to language processing\n",
    "\n",
    "train-test split"
   ]
  },
  {
   "cell_type": "code",
   "execution_count": 19,
   "id": "3c0a0d4a",
   "metadata": {},
   "outputs": [
    {
     "data": {
      "text/html": [
       "<div>\n",
       "<style scoped>\n",
       "    .dataframe tbody tr th:only-of-type {\n",
       "        vertical-align: middle;\n",
       "    }\n",
       "\n",
       "    .dataframe tbody tr th {\n",
       "        vertical-align: top;\n",
       "    }\n",
       "\n",
       "    .dataframe thead th {\n",
       "        text-align: right;\n",
       "    }\n",
       "</style>\n",
       "<table border=\"1\" class=\"dataframe\">\n",
       "  <thead>\n",
       "    <tr style=\"text-align: right;\">\n",
       "      <th></th>\n",
       "      <th>text</th>\n",
       "      <th>company</th>\n",
       "      <th>sentiment</th>\n",
       "    </tr>\n",
       "  </thead>\n",
       "  <tbody>\n",
       "    <tr>\n",
       "      <th>0</th>\n",
       "      <td>.@wesley83 i have a 3g iphone. after 3 hrs twe...</td>\n",
       "      <td>apple</td>\n",
       "      <td>0</td>\n",
       "    </tr>\n",
       "    <tr>\n",
       "      <th>1</th>\n",
       "      <td>@jessedee know about @fludapp ? awesome ipad/i...</td>\n",
       "      <td>apple</td>\n",
       "      <td>1</td>\n",
       "    </tr>\n",
       "    <tr>\n",
       "      <th>2</th>\n",
       "      <td>@swonderlin can not wait for #ipad 2 also. the...</td>\n",
       "      <td>apple</td>\n",
       "      <td>1</td>\n",
       "    </tr>\n",
       "    <tr>\n",
       "      <th>3</th>\n",
       "      <td>@sxsw i hope this year's festival isn't as cra...</td>\n",
       "      <td>apple</td>\n",
       "      <td>0</td>\n",
       "    </tr>\n",
       "    <tr>\n",
       "      <th>4</th>\n",
       "      <td>@sxtxstate great stuff on fri #sxsw: marissa m...</td>\n",
       "      <td>google</td>\n",
       "      <td>1</td>\n",
       "    </tr>\n",
       "  </tbody>\n",
       "</table>\n",
       "</div>"
      ],
      "text/plain": [
       "                                                text company  sentiment\n",
       "0  .@wesley83 i have a 3g iphone. after 3 hrs twe...   apple          0\n",
       "1  @jessedee know about @fludapp ? awesome ipad/i...   apple          1\n",
       "2  @swonderlin can not wait for #ipad 2 also. the...   apple          1\n",
       "3  @sxsw i hope this year's festival isn't as cra...   apple          0\n",
       "4  @sxtxstate great stuff on fri #sxsw: marissa m...  google          1"
      ]
     },
     "execution_count": 19,
     "metadata": {},
     "output_type": "execute_result"
    }
   ],
   "source": [
    "df.head()"
   ]
  },
  {
   "cell_type": "code",
   "execution_count": 18,
   "id": "4856aa11",
   "metadata": {},
   "outputs": [],
   "source": [
    "filepath = Path('../data/df.csv')  \n",
    "filepath.parent.mkdir(parents=True, exist_ok=True)  \n",
    "df.to_csv(filepath)"
   ]
  }
 ],
 "metadata": {
  "kernelspec": {
   "display_name": "Python (learn-env)",
   "language": "python",
   "name": "learn-env"
  },
  "language_info": {
   "codemirror_mode": {
    "name": "ipython",
    "version": 3
   },
   "file_extension": ".py",
   "mimetype": "text/x-python",
   "name": "python",
   "nbconvert_exporter": "python",
   "pygments_lexer": "ipython3",
   "version": "3.8.5"
  }
 },
 "nbformat": 4,
 "nbformat_minor": 5
}
