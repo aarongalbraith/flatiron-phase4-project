{
 "cells": [
  {
   "cell_type": "code",
   "execution_count": null,
   "id": "6d773d1f",
   "metadata": {},
   "outputs": [],
   "source": [
    "X_train[\"label\"] = [y_train[val] for val in X_train.index]\n",
    "\n",
    "def plot_words(column, title):\n",
    "\n",
    "    fig = plt.figure(figsize=(15, 5))\n",
    "    fig.set_tight_layout(True)\n",
    "    gs = fig.add_gridspec(1, 2)\n",
    "    ax1 = fig.add_subplot(gs[0, :1])\n",
    "    ax2 = fig.add_subplot(gs[0, 1:2])\n",
    "\n",
    "    axes = [ax1, ax2]\n",
    "\n",
    "    for index, category in enumerate(y_train.unique()):\n",
    "\n",
    "        all_words = X_train[X_train[\"label\"] == category][column].explode()\n",
    "        freq_dist = FreqDist(all_words)\n",
    "        top_10 = list(zip(*freq_dist.most_common(10)))\n",
    "        tokens = top_10[0]\n",
    "        counts = top_10[1]\n",
    "\n",
    "        ax = axes[index]\n",
    "        ax.bar(tokens, counts)\n",
    "\n",
    "        ax.set_title(f\"{title} {category}\")\n",
    "        ax.set_ylabel(\"Count\")\n",
    "        ax.yaxis.set_major_locator(MaxNLocator(integer=True))\n",
    "        ax.tick_params(axis=\"x\", rotation=90)"
   ]
  },
  {
   "cell_type": "code",
   "execution_count": null,
   "id": "343c3dba",
   "metadata": {},
   "outputs": [],
   "source": [
    "plot_words('text_without_stopwords', 'TITLE_HERE')"
   ]
  },
  {
   "cell_type": "code",
   "execution_count": null,
   "id": "99785bc2",
   "metadata": {},
   "outputs": [],
   "source": [
    "def visualize_top_10(freq_dist, title):\n",
    "    # Extract data for plotting\n",
    "    top_10 = list(zip(*freq_dist.most_common(10)))\n",
    "    tokens = top_10[0]\n",
    "    counts = top_10[1]\n",
    "    \n",
    "    # Set up plot and plot data\n",
    "    fig, ax = plt.subplots()\n",
    "    ax.bar(tokens, counts)\n",
    "    \n",
    "    # Customize plot appearance\n",
    "    ax.set_title(title)\n",
    "    ax.set_ylabel(\"Count\")\n",
    "    ax.yaxis.set_major_locator(MaxNLocator(integer=True))\n",
    "    ax.tick_params(axis=\"x\", rotation=90)\n",
    "    \n",
    "# visualize_top_10(train_freq_dist, \"Top 10 Most Common Words\")"
   ]
  },
  {
   "cell_type": "code",
   "execution_count": null,
   "id": "cedf28a2",
   "metadata": {},
   "outputs": [],
   "source": [
    "# instantiate wordcloud\n",
    "wordcloud = WordCloud(\n",
    "    width=500,\n",
    "    height=300\n",
    ")\n",
    "\n",
    "# generate wordcloud\n",
    "wordcloud.generate(','.join(tokens))\n",
    "\n",
    "# plot wordcloud\n",
    "\n",
    "plt.figure(figsize = (12, 15), facecolor = None) \n",
    "plt.imshow(wordcloud) \n",
    "plt.axis('off');"
   ]
  }
 ],
 "metadata": {
  "kernelspec": {
   "display_name": "Python (learn-env)",
   "language": "python",
   "name": "learn-env"
  },
  "language_info": {
   "codemirror_mode": {
    "name": "ipython",
    "version": 3
   },
   "file_extension": ".py",
   "mimetype": "text/x-python",
   "name": "python",
   "nbconvert_exporter": "python",
   "pygments_lexer": "ipython3",
   "version": "3.8.5"
  }
 },
 "nbformat": 4,
 "nbformat_minor": 5
}
