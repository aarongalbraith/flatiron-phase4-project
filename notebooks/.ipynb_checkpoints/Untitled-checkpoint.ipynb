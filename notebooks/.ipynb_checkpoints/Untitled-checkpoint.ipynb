{
 "cells": [
  {
   "cell_type": "code",
   "execution_count": 1,
   "id": "68d7ae4e",
   "metadata": {},
   "outputs": [],
   "source": [
    "import numpy as np\n",
    "import pandas as pd\n",
    "from sklearn.model_selection import train_test_split\n",
    "from nltk.tokenize import RegexpTokenizer\n",
    "from nltk import FreqDist\n",
    "import matplotlib.pyplot as plt\n",
    "from matplotlib.ticker import MaxNLocator\n",
    "from sklearn.feature_extraction.text import TfidfVectorizer\n",
    "from sklearn.naive_bayes import MultinomialNB\n",
    "from sklearn.model_selection import cross_val_score"
   ]
  },
  {
   "cell_type": "code",
   "execution_count": 2,
   "id": "72b9259c",
   "metadata": {},
   "outputs": [],
   "source": [
    "def visualize_top_words(freq_dist, title):\n",
    "    # Extract data for plotting\n",
    "    top_10 = list(zip(*freq_dist.most_common(10)))\n",
    "    tokens = top_10[0]\n",
    "    counts = top_10[1]\n",
    "    \n",
    "    # Set up plot and plot data\n",
    "    fig, ax = plt.subplots()\n",
    "    ax.bar(tokens, counts)\n",
    "    \n",
    "    # Customize plot appearance\n",
    "    ax.set_title(title)\n",
    "    ax.set_ylabel(\"Count\")\n",
    "    ax.yaxis.set_major_locator(MaxNLocator(integer=True))\n",
    "    ax.tick_params(axis=\"x\", rotation=90)"
   ]
  },
  {
   "cell_type": "code",
   "execution_count": 3,
   "id": "263c4946",
   "metadata": {},
   "outputs": [
    {
     "data": {
      "image/png": "[encoded data removed]",
      "text/plain": [
       "<Figure size 432x288 with 1 Axes>"
      ]
     },
     "metadata": {
      "needs_background": "light"
     },
     "output_type": "display_data"
    }
   ],
   "source": [
    "text = 'Put your hands up, put your hands up Put your hands up Put your hands up for Detroit, our lovely city Put your hands up, put your hands up for Detroit Put your hands up, put your hands up Put your hands up, put your hands up Put your hands up, put your hands up Put your hands up, put your hands up Put your hands up, put your hands up Put your hands up, put your hands up Put your hands up, put your hands up Put your hands up, put your hands up Put your, put your, put your, put your Put your, put your, put your, put your Put your, put your, put your, put your Put your, put your, put your, put your Put, put, put, put, put, put, put, put Put, put, put, put, put, put, put, put Put your hands up for Detroit Our lovely city Put your hands up, put your hands up Put your hands up, put your hands up Put your hands up, put your hands up Put your hands up, put your hands up for Detroit'\n",
    "text = text.lower()\n",
    "basic_token_pattern = r\"(?u)\\b\\w\\w+\\b\"\n",
    "tokenizer = RegexpTokenizer(basic_token_pattern)\n",
    "lyrics = tokenizer.tokenize(text)\n",
    "freq_dist = FreqDist(lyrics)\n",
    "visualize_top_words(freq_dist, \"Put Your Hands Up for Detroit (original) \\n Lyric Frequency Distribution\")"
   ]
  }
 ],
 "metadata": {
  "kernelspec": {
   "display_name": "Python (learn-env)",
   "language": "python",
   "name": "learn-env"
  },
  "language_info": {
   "codemirror_mode": {
    "name": "ipython",
    "version": 3
   },
   "file_extension": ".py",
   "mimetype": "text/x-python",
   "name": "python",
   "nbconvert_exporter": "python",
   "pygments_lexer": "ipython3",
   "version": "3.8.5"
  }
 },
 "nbformat": 4,
 "nbformat_minor": 5
}
