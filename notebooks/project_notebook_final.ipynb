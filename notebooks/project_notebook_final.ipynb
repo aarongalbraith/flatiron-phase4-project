{
 "cells": [
  {
   "cell_type": "markdown",
   "id": "0849e975",
   "metadata": {},
   "source": [
    "test change\n",
    "\n",
    "# Flatiron Phase 4 Project\n",
    "\n",
    "## Aaron Galbraith\n",
    "\n",
    "### Submitted: \n",
    "\n",
    "## Contents\n",
    "\n",
    "- **[Business Understanding](#Business-Understanding)<br>**\n",
    "- **[Data Understanding](#Data-Understanding)**<br>\n",
    "- **[Data Preparation](#Data-Preparation)**<br>\n",
    "- **[Exploration](#Exploration)**<br>\n",
    "- **[Modeling](#Modeling)**<br>\n",
    "- **[iNTERPRET](#iNTERPRET)**<br>\n",
    "- **[Conclusions/Recommendations](#CONCLUSIONS-&-RECOMMENDATIONS)<br>**"
   ]
  },
  {
   "cell_type": "markdown",
   "id": "3dadb085",
   "metadata": {},
   "source": [
    "# Business Understanding\n",
    "\n",
    "Apple launched the iPad 2 on March 11, 2011, the same day that the 2011 SXSW Festival began in Austin, TX. Apple also launched a pop-up store in Austin specifically to sell these and other products to the swell of crowds who attended the festival. Apple product launches for their lines of iPods, iPhones, and iPads were a very big deal at the time, and much media coverage was devoted to the frenzy that accompanied each launch, e.g. Apple customers eagerly waiting in long lines for the product on the first day it was available for sale.\\*\n",
    "\n",
    "Following the festival, Apple wished to gain insight into how its presence at the festival had been received. Tweets with the hashtag #sxsw were collected and tagged according to what sentiment they expressed and which if any tech brands or products (limited to apple and google) were mentioned. Apple wanted to know what it could learn not only from its own festival presence but also from Google's presence at the same festival.\n",
    "\n",
    "\\*Little of this information accompanied the dataset. Every single tweet contained the hashtag #sxsw, and a frequency analysis of the tweets indicated they took place in 2011. Further research yielded websites such as https://techcrunch.com/2011/03/10/ipad-2-sxsw/ and https://googleblog.blogspot.com/2011/03/google-at-sxsw-2011-austin-here-we-come.html, which provided helpful details about the activities of Apple and Google at the 2011 SXSW Festival."
   ]
  },
  {
   "cell_type": "markdown",
   "id": "f9ac9f23",
   "metadata": {},
   "source": [
    "# Data Understanding\n",
    "\n",
    "## Import files\n",
    "\n",
    "Here we'll import all the tools we'll need."
   ]
  },
  {
   "cell_type": "code",
   "execution_count": 1,
   "id": "020cadc7",
   "metadata": {},
   "outputs": [],
   "source": [
    "import numpy as np\n",
    "import pandas as pd\n",
    "from sklearn.model_selection import train_test_split\n",
    "from nltk.tokenize import RegexpTokenizer\n",
    "from nltk import FreqDist\n",
    "import matplotlib.pyplot as plt\n",
    "from matplotlib.ticker import MaxNLocator\n",
    "from sklearn.feature_extraction.text import TfidfVectorizer\n",
    "from sklearn.naive_bayes import MultinomialNB\n",
    "from sklearn.model_selection import cross_val_score\n",
    "import nltk\n",
    "nltk.download('stopwords', quiet=True)\n",
    "from nltk.corpus import stopwords\n",
    "from nltk.stem.snowball import SnowballStemmer\n",
    "from nltk.tokenize import sent_tokenize\n",
    "from operator import itemgetter\n",
    "from nltk.stem import WordNetLemmatizer\n",
    "from sklearn.preprocessing import StandardScaler\n",
    "from wordcloud import WordCloud\n",
    "from nltk import TweetTokenizer\n",
    "import string\n",
    "from sklearn.metrics import confusion_matrix\n",
    "from sklearn.metrics import ConfusionMatrixDisplay"
   ]
  },
  {
   "cell_type": "markdown",
   "id": "89723ca3",
   "metadata": {},
   "source": [
    "## Load and briefly explore data set"
   ]
  },
  {
   "cell_type": "code",
   "execution_count": 2,
   "id": "b9c2e441",
   "metadata": {},
   "outputs": [
    {
     "name": "stdout",
     "output_type": "stream",
     "text": [
      "<class 'pandas.core.frame.DataFrame'>\n",
      "RangeIndex: 9093 entries, 0 to 9092\n",
      "Data columns (total 3 columns):\n",
      " #   Column                                              Non-Null Count  Dtype \n",
      "---  ------                                              --------------  ----- \n",
      " 0   tweet_text                                          9092 non-null   object\n",
      " 1   emotion_in_tweet_is_directed_at                     3291 non-null   object\n",
      " 2   is_there_an_emotion_directed_at_a_brand_or_product  9093 non-null   object\n",
      "dtypes: object(3)\n",
      "memory usage: 213.2+ KB\n"
     ]
    }
   ],
   "source": [
    "# read csv into dataframe\n",
    "df = pd.read_csv('../data/tweets.csv', encoding='latin-1')\n",
    "# show overview of data\n",
    "df.info()"
   ]
  },
  {
   "cell_type": "code",
   "execution_count": 3,
   "id": "4c8570e4",
   "metadata": {},
   "outputs": [
    {
     "data": {
      "text/plain": [
       "(9093, 3)"
      ]
     },
     "execution_count": 3,
     "metadata": {},
     "output_type": "execute_result"
    }
   ],
   "source": [
    "# show row and column counts\n",
    "df.shape"
   ]
  },
  {
   "cell_type": "code",
   "execution_count": 4,
   "id": "aa2afa89",
   "metadata": {},
   "outputs": [
    {
     "data": {
      "text/plain": [
       "tweet_text                                            9065\n",
       "emotion_in_tweet_is_directed_at                          9\n",
       "is_there_an_emotion_directed_at_a_brand_or_product       4\n",
       "dtype: int64"
      ]
     },
     "execution_count": 4,
     "metadata": {},
     "output_type": "execute_result"
    }
   ],
   "source": [
    "# show how many unique values for each feature\n",
    "df.nunique()"
   ]
  },
  {
   "cell_type": "code",
   "execution_count": 5,
   "id": "ce05fed7",
   "metadata": {},
   "outputs": [
    {
     "data": {
      "text/plain": [
       "emotion_in_tweet_is_directed_at\n",
       "iPad                               946\n",
       "Apple                              661\n",
       "iPad or iPhone App                 470\n",
       "Google                             430\n",
       "iPhone                             297\n",
       "Other Google product or service    293\n",
       "Android App                         81\n",
       "Android                             78\n",
       "Other Apple product or service      35\n",
       "Name: count, dtype: int64"
      ]
     },
     "execution_count": 5,
     "metadata": {},
     "output_type": "execute_result"
    }
   ],
   "source": [
    "# show value counts for one feature\n",
    "df.emotion_in_tweet_is_directed_at.value_counts()"
   ]
  },
  {
   "cell_type": "code",
   "execution_count": 6,
   "id": "8575023e",
   "metadata": {},
   "outputs": [
    {
     "data": {
      "text/plain": [
       "is_there_an_emotion_directed_at_a_brand_or_product\n",
       "No emotion toward brand or product    0.59\n",
       "Positive emotion                      0.33\n",
       "Negative emotion                      0.06\n",
       "I can't tell                          0.02\n",
       "Name: proportion, dtype: float64"
      ]
     },
     "execution_count": 6,
     "metadata": {},
     "output_type": "execute_result"
    }
   ],
   "source": [
    "# show normalized value counts for one feature\n",
    "round(df.is_there_an_emotion_directed_at_a_brand_or_product.value_counts(normalize=True),2)"
   ]
  },
  {
   "cell_type": "code",
   "execution_count": 7,
   "id": "f7dc61bc",
   "metadata": {},
   "outputs": [
    {
     "data": {
      "text/plain": [
       "is_there_an_emotion_directed_at_a_brand_or_product\n",
       "No emotion toward brand or product    0.91\n",
       "Positive emotion                      0.05\n",
       "I can't tell                          0.03\n",
       "Negative emotion                      0.01\n",
       "Name: proportion, dtype: float64"
      ]
     },
     "execution_count": 7,
     "metadata": {},
     "output_type": "execute_result"
    }
   ],
   "source": [
    "# show breakdown of sentiment labels for tweets that have no product or brand identified\n",
    "round(df[df.emotion_in_tweet_is_directed_at.isna()] \\\n",
    ".is_there_an_emotion_directed_at_a_brand_or_product.value_counts(normalize=True),2)"
   ]
  },
  {
   "cell_type": "code",
   "execution_count": 8,
   "id": "6edd0959",
   "metadata": {},
   "outputs": [
    {
     "data": {
      "text/plain": [
       "46      Hand-Held Û÷HoboÛª: Drafthouse launches Û÷H...\n",
       "64      Again? RT @mention Line at the Apple store is ...\n",
       "68      Boooo! RT @mention Flipboard is developing an ...\n",
       "90      Thanks to @mention for publishing the news of ...\n",
       "102     ÛÏ@mention &quot;Apple has opened a pop-up st...\n",
       "                              ...                        \n",
       "9043    Hey is anyone doing #sxsw signing up for the g...\n",
       "9049    @mention you can buy my used iPad and I'll pic...\n",
       "9052    @mention You could buy a new iPad 2 tmrw at th...\n",
       "9054    Guys, if you ever plan on attending #SXSW, you...\n",
       "9058    &quot;Do you know what Apple is really good at...\n",
       "Name: tweet_text, Length: 504, dtype: object"
      ]
     },
     "execution_count": 8,
     "metadata": {},
     "output_type": "execute_result"
    }
   ],
   "source": [
    "df[(df.is_there_an_emotion_directed_at_a_brand_or_product != 'No emotion toward brand or product') &\n",
    "   (df.emotion_in_tweet_is_directed_at.isna())\n",
    "  ].tweet_text"
   ]
  },
  {
   "cell_type": "markdown",
   "id": "8f1596b2",
   "metadata": {},
   "source": [
    "## Summary of data\n",
    "\n",
    "There are 9,093 records and three features. As there are only 9,065 unique tweets, it appears that there are some duplicates.\n",
    "\n",
    "A little more than one third (3,291) of the tweets are identified as being directed at a particular product or brand associated with either Google or Apple, while the majority do not identify a product or brand.\n",
    "\n",
    "Relatively few records have been identified as having a negative or \"I can't tell\" emotion.\n",
    "\n",
    "For the 5,802 records that don't identify a product or brand, about 9% of them were identified as having something other than \"no emotion\". Upon investigation of these, it appears that some of them mention \"Apple\" or \"iPad\" after all, so evidently some tweets have not been successfully associated with a product or brand."
   ]
  },
  {
   "cell_type": "markdown",
   "id": "af2176a3",
   "metadata": {},
   "source": [
    "# Data Preparation\n",
    "\n",
    "## Renaming features\n",
    "\n",
    "The column names are a bit cumbersome, so we'll give them new names that are easier to deal with."
   ]
  },
  {
   "cell_type": "code",
   "execution_count": 9,
   "id": "28de9f25",
   "metadata": {},
   "outputs": [],
   "source": [
    "# rename columns\n",
    "df.rename(columns={'tweet_text': 'text',\n",
    "                   'emotion_in_tweet_is_directed_at': 'brand',\n",
    "                   'is_there_an_emotion_directed_at_a_brand_or_product': 'sentiment'},\n",
    "          inplace = True)"
   ]
  },
  {
   "cell_type": "markdown",
   "id": "1cd714b0",
   "metadata": {},
   "source": [
    "## Missing values"
   ]
  },
  {
   "cell_type": "code",
   "execution_count": 10,
   "id": "71f7df87",
   "metadata": {},
   "outputs": [
    {
     "data": {
      "text/html": [
       "<div>\n",
       "<style scoped>\n",
       "    .dataframe tbody tr th:only-of-type {\n",
       "        vertical-align: middle;\n",
       "    }\n",
       "\n",
       "    .dataframe tbody tr th {\n",
       "        vertical-align: top;\n",
       "    }\n",
       "\n",
       "    .dataframe thead th {\n",
       "        text-align: right;\n",
       "    }\n",
       "</style>\n",
       "<table border=\"1\" class=\"dataframe\">\n",
       "  <thead>\n",
       "    <tr style=\"text-align: right;\">\n",
       "      <th></th>\n",
       "      <th>text</th>\n",
       "      <th>brand</th>\n",
       "      <th>sentiment</th>\n",
       "    </tr>\n",
       "  </thead>\n",
       "  <tbody>\n",
       "    <tr>\n",
       "      <th>6</th>\n",
       "      <td>NaN</td>\n",
       "      <td>NaN</td>\n",
       "      <td>No emotion toward brand or product</td>\n",
       "    </tr>\n",
       "  </tbody>\n",
       "</table>\n",
       "</div>"
      ],
      "text/plain": [
       "  text brand                           sentiment\n",
       "6  NaN   NaN  No emotion toward brand or product"
      ]
     },
     "execution_count": 10,
     "metadata": {},
     "output_type": "execute_result"
    }
   ],
   "source": [
    "# show records with missing text\n",
    "df[df.text.isna()]"
   ]
  },
  {
   "cell_type": "markdown",
   "id": "408c7a6f",
   "metadata": {},
   "source": [
    "We can't do anything with a record whose text is missing, so we'll drop it."
   ]
  },
  {
   "cell_type": "code",
   "execution_count": 11,
   "id": "4d26c53c",
   "metadata": {},
   "outputs": [],
   "source": [
    "# drop records with missing text values\n",
    "df.dropna(subset=['text'], inplace=True)"
   ]
  },
  {
   "cell_type": "markdown",
   "id": "25e804f5",
   "metadata": {},
   "source": [
    "## Edit values\n",
    "\n",
    "As these tasks may increase the number of duplicate records, we should perform them before we look for those duplicates."
   ]
  },
  {
   "cell_type": "markdown",
   "id": "2809c44c",
   "metadata": {},
   "source": [
    "### Lower case\n",
    "\n",
    "It's not likely that we'll lose anything important by shifting all the text to lower case, especially given the nature of tweeting."
   ]
  },
  {
   "cell_type": "code",
   "execution_count": 12,
   "id": "588689b4",
   "metadata": {},
   "outputs": [],
   "source": [
    "# shift all text to lower case\n",
    "df['text'] = df['text'].str.lower()"
   ]
  },
  {
   "cell_type": "markdown",
   "id": "b13fbadf",
   "metadata": {},
   "source": [
    "### Rename sentiments\n",
    "\n",
    "The sentiment labels could be more succinct. We'll change them."
   ]
  },
  {
   "cell_type": "code",
   "execution_count": 13,
   "id": "aeb63c2b",
   "metadata": {},
   "outputs": [],
   "source": [
    "sentiment_rename = {\n",
    "    \"No emotion toward brand or product\": \"neutral\",\n",
    "    \"Positive emotion\": \"positive\",\n",
    "    \"Negative emotion\": \"negative\",\n",
    "    \"I can't tell\": \"unknown\"\n",
    "}\n",
    "\n",
    "df.sentiment = df.sentiment.apply(lambda x: sentiment_rename[x])"
   ]
  },
  {
   "cell_type": "markdown",
   "id": "0d60ee73",
   "metadata": {},
   "source": [
    "### Merge brand labels"
   ]
  },
  {
   "cell_type": "code",
   "execution_count": 14,
   "id": "c89616b2",
   "metadata": {},
   "outputs": [
    {
     "data": {
      "text/plain": [
       "brand\n",
       "iPad                               946\n",
       "Apple                              661\n",
       "iPad or iPhone App                 470\n",
       "Google                             430\n",
       "iPhone                             297\n",
       "Other Google product or service    293\n",
       "Android App                         81\n",
       "Android                             78\n",
       "Other Apple product or service      35\n",
       "Name: count, dtype: int64"
      ]
     },
     "execution_count": 14,
     "metadata": {},
     "output_type": "execute_result"
    }
   ],
   "source": [
    "# show breakdown of brand before merging\n",
    "df.brand.value_counts()"
   ]
  },
  {
   "cell_type": "code",
   "execution_count": 15,
   "id": "bf82b8d2",
   "metadata": {},
   "outputs": [],
   "source": [
    "# assign either apple or google label and fill in missing values with other\n",
    "df['brand'].replace(['iPad', 'Apple', 'iPad or iPhone App', 'iPhone', 'Other Apple product or service'], 'apple',\n",
    "                     inplace=True)\n",
    "df['brand'].replace(['Google', 'Other Google product or service', 'Android App', 'Android'], 'google',\n",
    "                     inplace=True)\n",
    "df['brand'].fillna('other',\n",
    "                    inplace=True)"
   ]
  },
  {
   "cell_type": "code",
   "execution_count": 16,
   "id": "31e60bde",
   "metadata": {},
   "outputs": [
    {
     "data": {
      "text/plain": [
       "brand\n",
       "other     5801\n",
       "apple     2409\n",
       "google     882\n",
       "Name: count, dtype: int64"
      ]
     },
     "execution_count": 16,
     "metadata": {},
     "output_type": "execute_result"
    }
   ],
   "source": [
    "# show breakdown of brand after merging\n",
    "df.brand.value_counts()"
   ]
  },
  {
   "cell_type": "markdown",
   "id": "8847732c",
   "metadata": {},
   "source": [
    "## Detect missing brand labels\n",
    "\n",
    "As noted earlier, we suspect many of the tweets labeled \"other\" actually refer to a certain product or brand. We'll use some helpful keywords to reclassify some of the tweets that are not yet associated with either brand.\n",
    "\n",
    "In the event that some tweets happen to mention both brands, we'll make a label for \"both\", and we'll label everything else \"neither\"."
   ]
  },
  {
   "cell_type": "code",
   "execution_count": 17,
   "id": "9ce822d3",
   "metadata": {},
   "outputs": [],
   "source": [
    "# make key word lists for apple and google\n",
    "apple_words = ['ipad', 'apple', 'iphone', 'itunes', 'ipad2']\n",
    "google_words = ['google', 'android', 'blogger', 'marissa', 'mayer', 'sketchup', 'h4ckers', 'youtube']"
   ]
  },
  {
   "cell_type": "code",
   "execution_count": 18,
   "id": "a6c7f9fd",
   "metadata": {},
   "outputs": [],
   "source": [
    "# make a function that relabels brand values by finding what keywords are mentioned in the text\n",
    "def brand_fix(text, brand):\n",
    "    # only relabel records that do not have one of the two brands already associated\n",
    "    if brand != 'other':\n",
    "        return brand\n",
    "    else:\n",
    "        apple, google = False, False\n",
    "        # look for apple keyword\n",
    "        for word in apple_words:\n",
    "            if word in text:\n",
    "                apple = True\n",
    "                break\n",
    "        # look for google keyword\n",
    "        for word in google_words:\n",
    "            if word in text:\n",
    "                google = True\n",
    "                break\n",
    "\n",
    "        # return correct new label\n",
    "        if apple & ~google:\n",
    "            return 'apple'\n",
    "        elif google & ~apple:\n",
    "            return 'google'\n",
    "        elif apple & google:\n",
    "            return 'both'\n",
    "        else:\n",
    "            return 'neither'"
   ]
  },
  {
   "cell_type": "code",
   "execution_count": 19,
   "id": "deea9c39",
   "metadata": {},
   "outputs": [
    {
     "data": {
      "text/plain": [
       "brand\n",
       "apple      5395\n",
       "google     2831\n",
       "neither     677\n",
       "both        189\n",
       "Name: count, dtype: int64"
      ]
     },
     "execution_count": 19,
     "metadata": {},
     "output_type": "execute_result"
    }
   ],
   "source": [
    "# run above function to relabel brand values\n",
    "df['brand'] = df.apply(lambda x: brand_fix(x.text, x.brand), axis=1)\n",
    "# show breakdown of brand after running function\n",
    "df.brand.value_counts()"
   ]
  },
  {
   "cell_type": "markdown",
   "id": "8b1417ab",
   "metadata": {},
   "source": [
    "We were able to label a vast majority of the unassociated tweets with a brand that the tweet mentions."
   ]
  },
  {
   "cell_type": "markdown",
   "id": "6c660068",
   "metadata": {},
   "source": [
    "# CONSIDER REVISITING \"NEITHER\" AND \"BOTH\" DEPENDING ON BUSINESS PROBLEM"
   ]
  },
  {
   "cell_type": "markdown",
   "id": "2a91f075",
   "metadata": {},
   "source": [
    "## Duplicates\n",
    "\n",
    "Now we'll address duplicated tweets"
   ]
  },
  {
   "cell_type": "code",
   "execution_count": 20,
   "id": "44439a20",
   "metadata": {},
   "outputs": [
    {
     "data": {
      "text/plain": [
       "False    9050\n",
       "True       42\n",
       "Name: count, dtype: int64"
      ]
     },
     "execution_count": 20,
     "metadata": {},
     "output_type": "execute_result"
    }
   ],
   "source": [
    "# show how many records are duplicates\n",
    "df.duplicated().value_counts()"
   ]
  },
  {
   "cell_type": "code",
   "execution_count": 21,
   "id": "b6ba6ac4",
   "metadata": {},
   "outputs": [
    {
     "data": {
      "text/plain": [
       "467        before it even begins, apple wins #sxsw {link}\n",
       "468        before it even begins, apple wins #sxsw {link}\n",
       "664     if you're in a room full of people w/good wi-f...\n",
       "775     google to launch major new social network call...\n",
       "776     google to launch major new social network call...\n",
       "798     google to launch major new social network call...\n",
       "2231    marissa mayer: google will connect the digital...\n",
       "2232    marissa mayer: google will connect the digital...\n",
       "2559    counting down the days to #sxsw plus strong ca...\n",
       "3810             win free ipad 2 from webdoc.com #sxsw rt\n",
       "3811             win free ipad 2 from webdoc.com #sxsw rt\n",
       "3812             win free ipad 2 from webdoc.com #sxsw rt\n",
       "3814             win free ipad 2 from webdoc.com #sxsw rt\n",
       "3950    really enjoying the changes in gowalla 3.0 for...\n",
       "3962    #sxsw is just starting, #ctia is around the co...\n",
       "Name: text, dtype: object"
      ]
     },
     "execution_count": 21,
     "metadata": {},
     "output_type": "execute_result"
    }
   ],
   "source": [
    "# show how many records are duplicates\n",
    "df[df.duplicated()].text.head(15)"
   ]
  },
  {
   "cell_type": "markdown",
   "id": "263fe279",
   "metadata": {},
   "source": [
    "It could be worth keeping some duplicates if it seemed like two tweets were coincidentally identical. For example, two people might have tweeted \"apple sucks\", and in that event the fact that this happened twice might be worth noting.\n",
    "\n",
    "From a glance at some of the duplicated records, however, these look more like errors or at least tweets that have simply been copied and pasted. We'll drop the duplicated records."
   ]
  },
  {
   "cell_type": "code",
   "execution_count": 22,
   "id": "aa00c2b7",
   "metadata": {},
   "outputs": [],
   "source": [
    "# drop duplicate records\n",
    "df.drop_duplicates(inplace=True)"
   ]
  },
  {
   "cell_type": "markdown",
   "id": "25b12a34",
   "metadata": {},
   "source": [
    "Now let's check whether any duplicated *text* records remain."
   ]
  },
  {
   "cell_type": "code",
   "execution_count": 23,
   "id": "efd6e274",
   "metadata": {},
   "outputs": [
    {
     "data": {
      "text/plain": [
       "False    9047\n",
       "True        3\n",
       "Name: count, dtype: int64"
      ]
     },
     "execution_count": 23,
     "metadata": {},
     "output_type": "execute_result"
    }
   ],
   "source": [
    "# show how many records are duplicates for the text value only\n",
    "df.duplicated(subset=['text']).value_counts()"
   ]
  },
  {
   "cell_type": "markdown",
   "id": "c0a32232",
   "metadata": {},
   "source": [
    "Curiously, a few records are identified as duplicate text values that evidently have different values for other features. Let's see if those records differ on sentiment identification. (It's less important whether they differ on brand identification.)"
   ]
  },
  {
   "cell_type": "code",
   "execution_count": 24,
   "id": "0ba74b43",
   "metadata": {},
   "outputs": [
    {
     "name": "stdout",
     "output_type": "stream",
     "text": [
      "duplicate group 1 \n",
      " win free ipad 2 from webdoc.com #sxsw rt \n",
      "\n",
      " sentiment\n",
      "neutral     1\n",
      "positive    1\n",
      "Name: count, dtype: int64 \n",
      "\n",
      "- - - -\n",
      "\n",
      "duplicate group 2 \n",
      " rt @mention marissa mayer: google will connect the digital &amp; physical worlds through mobile - {link} #sxsw \n",
      "\n",
      " sentiment\n",
      "positive    1\n",
      "neutral     1\n",
      "Name: count, dtype: int64 \n",
      "\n",
      "- - - -\n",
      "\n",
      "duplicate group 3 \n",
      " rt @mention rt @mention it's not a rumor: apple is opening up a temporary store in downtown austin for #sxsw and the ipad 2 launch {link} \n",
      "\n",
      " sentiment\n",
      "positive    1\n",
      "neutral     1\n",
      "Name: count, dtype: int64 \n",
      "\n",
      "- - - -\n",
      "\n"
     ]
    }
   ],
   "source": [
    "# show sentiment identification for groups of duplicated tweets\n",
    "for i, index in enumerate(df[df.duplicated(subset=['text'])].index):\n",
    "    print(\n",
    "        'duplicate group', i+1, '\\n',\n",
    "        df.loc[index].text, '\\n\\n',\n",
    "        df[df.text == df.loc[index].text].sentiment.value_counts(),\n",
    "        '\\n\\n- - - -\\n'\n",
    "    )"
   ]
  },
  {
   "cell_type": "markdown",
   "id": "103e2747",
   "metadata": {},
   "source": [
    "Each duplicated tweet has been labeled once as positive and once as nonpositive. It seems fair to keep the positive labels for each of these."
   ]
  },
  {
   "cell_type": "code",
   "execution_count": 25,
   "id": "d067092b",
   "metadata": {},
   "outputs": [],
   "source": [
    "# iterate over records listed as duplicates\n",
    "for i in df[df.duplicated(subset=['text'])].index:\n",
    "    # drop any records whose text matches a particular duplicate AND is labeled nonpositive\n",
    "    df.drop(df[ (df.text == df.loc[i].text) & (df.sentiment == 0) ].index, inplace=True)"
   ]
  },
  {
   "cell_type": "markdown",
   "id": "a989ef3f",
   "metadata": {},
   "source": [
    "## Begin NLP\n",
    "\n",
    "Now that we have the data set we want to work with, we'll use natural language processing techniques to help us analyze it.\n",
    "\n",
    "First we'll create a feature with a list of lemmatized tokens from each tweet. We'll use a tokenizer that is specifically designed to parse tweets. We'll also get rid of the hashtags in front of terms."
   ]
  },
  {
   "cell_type": "code",
   "execution_count": 26,
   "id": "1d6df0b1",
   "metadata": {},
   "outputs": [],
   "source": [
    "# make tokenizer\n",
    "tokenizer = TweetTokenizer(\n",
    "    preserve_case=False,\n",
    "    strip_handles=True\n",
    ")\n",
    "\n",
    "# make lemmatizer\n",
    "lemmatizer = WordNetLemmatizer()\n",
    "\n",
    "# create function that transforms a text string into a list of lemmatized tokens\n",
    "def tokens_lem(text):\n",
    "    tokens = tokenizer.tokenize(text)\n",
    "    tokens_lem = [lemmatizer.lemmatize(word) for word in tokens]\n",
    "\n",
    "    for i in range(len(tokens_lem)):\n",
    "        # delete hashtags\n",
    "        if tokens_lem[i].startswith('#'):\n",
    "            tokens_lem[i] = tokens_lem[i][1:]\n",
    "    return tokens_lem"
   ]
  },
  {
   "cell_type": "code",
   "execution_count": 27,
   "id": "b80fb9fe",
   "metadata": {},
   "outputs": [],
   "source": [
    "# create column of lists of lemmatized tokens\n",
    "df['tokens_lem'] = df['text'].apply(lambda x: tokens_lem(x))"
   ]
  },
  {
   "cell_type": "code",
   "execution_count": 28,
   "id": "85edef47",
   "metadata": {},
   "outputs": [
    {
     "data": {
      "text/html": [
       "<div>\n",
       "<style scoped>\n",
       "    .dataframe tbody tr th:only-of-type {\n",
       "        vertical-align: middle;\n",
       "    }\n",
       "\n",
       "    .dataframe tbody tr th {\n",
       "        vertical-align: top;\n",
       "    }\n",
       "\n",
       "    .dataframe thead th {\n",
       "        text-align: right;\n",
       "    }\n",
       "</style>\n",
       "<table border=\"1\" class=\"dataframe\">\n",
       "  <thead>\n",
       "    <tr style=\"text-align: right;\">\n",
       "      <th></th>\n",
       "      <th>text</th>\n",
       "      <th>brand</th>\n",
       "      <th>sentiment</th>\n",
       "      <th>tokens_lem</th>\n",
       "    </tr>\n",
       "  </thead>\n",
       "  <tbody>\n",
       "    <tr>\n",
       "      <th>0</th>\n",
       "      <td>.@wesley83 i have a 3g iphone. after 3 hrs twe...</td>\n",
       "      <td>apple</td>\n",
       "      <td>negative</td>\n",
       "      <td>[., i, have, a, 3g, iphone, ., after, 3, hr, t...</td>\n",
       "    </tr>\n",
       "    <tr>\n",
       "      <th>1</th>\n",
       "      <td>@jessedee know about @fludapp ? awesome ipad/i...</td>\n",
       "      <td>apple</td>\n",
       "      <td>positive</td>\n",
       "      <td>[know, about, ?, awesome, ipad, /, iphone, app...</td>\n",
       "    </tr>\n",
       "    <tr>\n",
       "      <th>2</th>\n",
       "      <td>@swonderlin can not wait for #ipad 2 also. the...</td>\n",
       "      <td>apple</td>\n",
       "      <td>positive</td>\n",
       "      <td>[can, not, wait, for, ipad, 2, also, ., they, ...</td>\n",
       "    </tr>\n",
       "    <tr>\n",
       "      <th>3</th>\n",
       "      <td>@sxsw i hope this year's festival isn't as cra...</td>\n",
       "      <td>apple</td>\n",
       "      <td>negative</td>\n",
       "      <td>[i, hope, this, year's, festival, isn't, a, cr...</td>\n",
       "    </tr>\n",
       "    <tr>\n",
       "      <th>4</th>\n",
       "      <td>@sxtxstate great stuff on fri #sxsw: marissa m...</td>\n",
       "      <td>google</td>\n",
       "      <td>positive</td>\n",
       "      <td>[great, stuff, on, fri, sxsw, :, marissa, maye...</td>\n",
       "    </tr>\n",
       "  </tbody>\n",
       "</table>\n",
       "</div>"
      ],
      "text/plain": [
       "                                                text   brand sentiment  \\\n",
       "0  .@wesley83 i have a 3g iphone. after 3 hrs twe...   apple  negative   \n",
       "1  @jessedee know about @fludapp ? awesome ipad/i...   apple  positive   \n",
       "2  @swonderlin can not wait for #ipad 2 also. the...   apple  positive   \n",
       "3  @sxsw i hope this year's festival isn't as cra...   apple  negative   \n",
       "4  @sxtxstate great stuff on fri #sxsw: marissa m...  google  positive   \n",
       "\n",
       "                                          tokens_lem  \n",
       "0  [., i, have, a, 3g, iphone, ., after, 3, hr, t...  \n",
       "1  [know, about, ?, awesome, ipad, /, iphone, app...  \n",
       "2  [can, not, wait, for, ipad, 2, also, ., they, ...  \n",
       "3  [i, hope, this, year's, festival, isn't, a, cr...  \n",
       "4  [great, stuff, on, fri, sxsw, :, marissa, maye...  "
      ]
     },
     "execution_count": 28,
     "metadata": {},
     "output_type": "execute_result"
    }
   ],
   "source": [
    "df.head()"
   ]
  },
  {
   "cell_type": "markdown",
   "id": "ac5e08b8",
   "metadata": {},
   "source": [
    "We'll clearly have to do some work to get rid of stop words. First let's look at the corpus of words we have and find the most frequently occurring ones."
   ]
  },
  {
   "cell_type": "code",
   "execution_count": 29,
   "id": "821e8b36",
   "metadata": {},
   "outputs": [],
   "source": [
    "# make a function that takes a column from a dataframe (possibly subject to conditions)\n",
    "# and returns a frequency distribution of the words from its records\n",
    "def corpus_freq_dist(df_column):\n",
    "    corpus = df_column.explode()\n",
    "    return FreqDist(corpus)"
   ]
  },
  {
   "cell_type": "code",
   "execution_count": 30,
   "id": "931e1c18",
   "metadata": {},
   "outputs": [
    {
     "data": {
      "text/plain": [
       "[('sxsw', 9553),\n",
       " ('.', 5890),\n",
       " ('the', 4414),\n",
       " ('link', 4294),\n",
       " ('}', 4268),\n",
       " ('{', 4265),\n",
       " ('to', 3573),\n",
       " (',', 3512),\n",
       " ('at', 3097),\n",
       " ('rt', 2937),\n",
       " ('ipad', 2667),\n",
       " ('a', 2546),\n",
       " ('for', 2542),\n",
       " ('google', 2436),\n",
       " ('!', 2359)]"
      ]
     },
     "execution_count": 30,
     "metadata": {},
     "output_type": "execute_result"
    }
   ],
   "source": [
    "corpus_freq_dist(df.tokens_lem).most_common(15)"
   ]
  },
  {
   "cell_type": "markdown",
   "id": "37df2db4",
   "metadata": {},
   "source": [
    "In addition to punctuation characters, some twitter-specific terms appear here, and of course sxsw. Let's start a stopwords list and put it to use."
   ]
  },
  {
   "cell_type": "code",
   "execution_count": 31,
   "id": "65a409b8",
   "metadata": {},
   "outputs": [
    {
     "name": "stderr",
     "output_type": "stream",
     "text": [
      "[nltk_data] Downloading package stopwords to\n",
      "[nltk_data]     /Users/stubbletrouble/nltk_data...\n",
      "[nltk_data]   Package stopwords is already up-to-date!\n"
     ]
    }
   ],
   "source": [
    "# obtain the standard list of stopwords\n",
    "nltk.download('stopwords')\n",
    "stop_list = stopwords.words('english')\n",
    "# add to this list some twitter-specific terms\n",
    "stop_list.extend(['sxsw', 'link', 'rt'])\n",
    "# add punctuation characters\n",
    "for char in string.punctuation:\n",
    "    stop_list.append(char)\n",
    "\n",
    "# make a function to use together with the tokens_lem function to remove stopwords from the token lists\n",
    "def stop(word_list):\n",
    "    stopped_words = []\n",
    "    for word in word_list:\n",
    "        if word not in stop_list:\n",
    "            stopped_words.append(word)\n",
    "    return stopped_words"
   ]
  },
  {
   "cell_type": "code",
   "execution_count": 32,
   "id": "ac6dabc5",
   "metadata": {},
   "outputs": [],
   "source": [
    "# create column of lists of lemmatized tokens\n",
    "df['tokens_lem'] = df['text'].apply(lambda x: stop(tokens_lem(x)))"
   ]
  },
  {
   "cell_type": "code",
   "execution_count": 33,
   "id": "afa8a702",
   "metadata": {},
   "outputs": [
    {
     "data": {
      "text/plain": [
       "[('ipad', 2667),\n",
       " ('google', 2436),\n",
       " ('apple', 2223),\n",
       " ('iphone', 1573),\n",
       " ('store', 1516),\n",
       " ('2', 1367),\n",
       " ('new', 1078),\n",
       " ('austin', 954),\n",
       " ('app', 819),\n",
       " ('\\x89', 685),\n",
       " ('launch', 678),\n",
       " ('...', 639),\n",
       " ('social', 635),\n",
       " ('android', 588),\n",
       " ('circle', 578)]"
      ]
     },
     "execution_count": 33,
     "metadata": {},
     "output_type": "execute_result"
    }
   ],
   "source": [
    "corpus_freq_dist(df.tokens_lem).most_common(15)"
   ]
  },
  {
   "cell_type": "markdown",
   "id": "4b4efc99",
   "metadata": {},
   "source": [
    "This looks better. It seems we've still got a few nonsense terms, though. Let's try to find the most frequently occurring tokens that are not alphanumeric."
   ]
  },
  {
   "cell_type": "code",
   "execution_count": 34,
   "id": "1dff1d96",
   "metadata": {},
   "outputs": [
    {
     "data": {
      "text/plain": [
       "[('2', 1367),\n",
       " ('\\x89', 685),\n",
       " ('...', 639),\n",
       " ('pop-up', 422),\n",
       " ('ipad2', 294),\n",
       " (\"i'm\", 252),\n",
       " (\"google's\", 182),\n",
       " ('\\x9d', 152),\n",
       " ('4', 134),\n",
       " (\"we're\", 127),\n",
       " (':)', 120),\n",
       " ('1', 114),\n",
       " ('6th', 99),\n",
       " (\"apple's\", 95),\n",
       " ('5', 95)]"
      ]
     },
     "execution_count": 34,
     "metadata": {},
     "output_type": "execute_result"
    }
   ],
   "source": [
    "corpus_nonalpha = []\n",
    "for word in df.tokens_lem.explode():\n",
    "    if str(word).isalpha() == False:\n",
    "        corpus_nonalpha.append(word)\n",
    "\n",
    "corpus_nonalpha_freq_dist = FreqDist(corpus_nonalpha)\n",
    "\n",
    "corpus_nonalpha_freq_dist.most_common(15)"
   ]
  },
  {
   "cell_type": "markdown",
   "id": "6acaf790",
   "metadata": {},
   "source": [
    "It seems quite probable that the \"2\" here is occurring when tweets include a space in the expression \"ipad 2\". Since this is probably happening quite a lot, we'll glue these terms together.\n",
    "\n",
    "We can also consolidate terms like \"pop-up\", \"popup\", and \"pop up\", since these are all likely references to Apple's pop-up store.\n",
    "\n",
    "We'll also add some of these unusual tokens to the stop_list."
   ]
  },
  {
   "cell_type": "code",
   "execution_count": 35,
   "id": "66538f95",
   "metadata": {},
   "outputs": [],
   "source": [
    "# add stopwords\n",
    "stop_list.extend(['\\x89', '...', '\\x9d'])\n",
    "# reset the tokens_lem column with new stop words\n",
    "df['tokens_lem'] = df['text'].apply(lambda x: stop(tokens_lem(x)))"
   ]
  },
  {
   "cell_type": "code",
   "execution_count": 60,
   "id": "a2ff3554",
   "metadata": {},
   "outputs": [],
   "source": [
    "# make a function to join any instance of \"ipad 2\" separated by a space\n",
    "# note: this function is clunky and poorly written but it works\n",
    "def ipad_fix(word_list):\n",
    "    new_word_list = []\n",
    "    for i in range(len(word_list)):\n",
    "        # if the word is the first of two words that make ipad2, then add 'ipad2'\n",
    "        if word_list[i] == 'ipad' and i < len(word_list) - 1 and word_list[i+1] == '2':\n",
    "            new_word_list.append('ipad2')\n",
    "        # if the word is the second of two words that make ipad2, then add nothing\n",
    "        elif i > 0 and word_list[i-1] == 'ipad' and word_list[i] == '2':\n",
    "            continue\n",
    "        # in all other instances, add the word\n",
    "        else:\n",
    "            new_word_list.append(word_list[i])\n",
    "    return new_word_list"
   ]
  },
  {
   "cell_type": "code",
   "execution_count": 63,
   "id": "3afc2a5b",
   "metadata": {},
   "outputs": [],
   "source": [
    "# make a function to standardize \"pop up\", \"pop-up\", and \"popup\"\n",
    "# note: this function is clunky and poorly written but it works\n",
    "def popup_fix(word_list):\n",
    "    new_word_list = []\n",
    "    for i in range(len(word_list)):\n",
    "        # if the word is the wrong one-word version, add 'pop-up'\n",
    "        if word_list[i] == 'popup':\n",
    "            new_word_list.append('pop-up')\n",
    "        # if the word is the first of two words that make pop-up, then add 'pop-up'\n",
    "        elif word_list[i] == 'pop' and i < len(word_list) - 1 and word_list[i+1] == 'up':\n",
    "            new_word_list.append('pop-up')\n",
    "        # if the word is the second of two words that make pop-up, then add nothing\n",
    "        elif i > 0 and word_list[i-1] == 'pop' and word_list[i] == 'up':\n",
    "            continue\n",
    "        # in all other instances, add the word\n",
    "        else:\n",
    "            new_word_list.append(word_list[i])\n",
    "    return new_word_list"
   ]
  },
  {
   "cell_type": "code",
   "execution_count": 64,
   "id": "cfbaf110",
   "metadata": {},
   "outputs": [],
   "source": [
    "# reset tokens_lem column with fixed ipad2\n",
    "df['tokens_lem'] = df['tokens_lem'].apply(lambda x: ipad_fix(x))\n",
    "# reset tokens_lem column with fixed popup\n",
    "df['tokens_lem'] = df['tokens_lem'].apply(lambda x: popup_fix(x))"
   ]
  },
  {
   "cell_type": "code",
   "execution_count": 65,
   "id": "2b31f4fd",
   "metadata": {},
   "outputs": [
    {
     "data": {
      "text/plain": [
       "[('google', 2434),\n",
       " ('apple', 2218),\n",
       " ('iphone', 1566),\n",
       " ('store', 1512),\n",
       " ('ipad2', 1454),\n",
       " ('new', 1078),\n",
       " ('austin', 951),\n",
       " ('app', 802),\n",
       " ('launch', 678),\n",
       " ('social', 635),\n",
       " ('pop-up', 632),\n",
       " ('android', 587),\n",
       " ('circle', 578),\n",
       " ('today', 563),\n",
       " ('network', 461),\n",
       " ('get', 453),\n",
       " ('line', 434),\n",
       " ('via', 433),\n",
       " ('party', 401),\n",
       " ('free', 382),\n",
       " ('called', 349),\n",
       " ('sxswi', 339),\n",
       " ('mobile', 336),\n",
       " ('ha', 308),\n",
       " ('like', 302),\n",
       " ('time', 300),\n",
       " ('major', 293),\n",
       " ('day', 282),\n",
       " ('one', 282),\n",
       " ('map', 263),\n",
       " ('temporary', 262),\n",
       " ('w', 261),\n",
       " ('u', 258),\n",
       " ('opening', 255),\n",
       " (\"i'm\", 252),\n",
       " ('open', 250),\n",
       " ('wa', 238),\n",
       " ('need', 238),\n",
       " ('win', 236),\n",
       " ('go', 235),\n",
       " ('possibly', 233),\n",
       " ('come', 228),\n",
       " ('see', 228),\n",
       " ('people', 227),\n",
       " ('downtown', 223),\n",
       " ('apps', 222),\n",
       " ('great', 221),\n",
       " ('check', 220),\n",
       " ('going', 218),\n",
       " ('2', 201)]"
      ]
     },
     "execution_count": 65,
     "metadata": {},
     "output_type": "execute_result"
    }
   ],
   "source": [
    "corpus_freq_dist(df.tokens_lem).most_common(50)"
   ]
  },
  {
   "cell_type": "markdown",
   "id": "1219dbaa",
   "metadata": {},
   "source": [
    "This looks a lot better. Let's make a list of just the tokens we'll use going forward."
   ]
  },
  {
   "cell_type": "code",
   "execution_count": 39,
   "id": "e5d64cf3",
   "metadata": {},
   "outputs": [],
   "source": [
    "tokens = list(df.tokens_lem.explode().astype(str))"
   ]
  },
  {
   "cell_type": "code",
   "execution_count": 40,
   "id": "8333adfc",
   "metadata": {},
   "outputs": [
    {
     "data": {
      "text/plain": [
       "['3g',\n",
       " 'iphone',\n",
       " '3',\n",
       " 'hr',\n",
       " 'tweeting',\n",
       " 'rise_austin',\n",
       " 'wa',\n",
       " 'dead',\n",
       " 'need',\n",
       " 'upgrade',\n",
       " 'plugin',\n",
       " 'station',\n",
       " 'know',\n",
       " 'awesome',\n",
       " 'iphone']"
      ]
     },
     "execution_count": 40,
     "metadata": {},
     "output_type": "execute_result"
    }
   ],
   "source": [
    "tokens[:15]"
   ]
  },
  {
   "cell_type": "markdown",
   "id": "6808e5d5",
   "metadata": {},
   "source": [
    "By the way, we can use term frequency to try to figure out what year all of this took place. We'll start around the year the first iPhone was released (2007) and include the year the dataset was created (2013)."
   ]
  },
  {
   "cell_type": "code",
   "execution_count": 41,
   "id": "32e3cd10",
   "metadata": {},
   "outputs": [
    {
     "name": "stdout",
     "output_type": "stream",
     "text": [
      "2007: 0\n",
      "2008: 0\n",
      "2009: 1\n",
      "2010: 4\n",
      "2011: 75\n",
      "2012: 0\n",
      "2013: 0\n"
     ]
    }
   ],
   "source": [
    "# iterate over a likely timespan\n",
    "for year in range(2007,2014):\n",
    "    # show how frequently a given year was mentioned\n",
    "    print(str(year)+':',\n",
    "          corpus_freq_dist(df.tokens_lem)[str(year)]\n",
    "         )"
   ]
  },
  {
   "cell_type": "markdown",
   "id": "8d17871d",
   "metadata": {},
   "source": [
    "This strongly indicates the data comes from 2011. Particularly from the SXSW conference in Austin, TX."
   ]
  },
  {
   "cell_type": "markdown",
   "id": "7e4cac87",
   "metadata": {},
   "source": [
    "# Exploration\n",
    "\n",
    "We'll use a number of methods to see what the data can tell us."
   ]
  },
  {
   "cell_type": "code",
   "execution_count": 42,
   "id": "ef80c865",
   "metadata": {},
   "outputs": [],
   "source": [
    "non_brand_tokens = [word for word in tokens if word not in apple_words and word not in google_words]"
   ]
  },
  {
   "cell_type": "code",
   "execution_count": 43,
   "id": "c5d61e28",
   "metadata": {},
   "outputs": [],
   "source": [
    "tokens_apple_pos = list(df[\n",
    "    (df.brand == 'apple') &\n",
    "    (df.sentiment == 'negative')\n",
    "].tokens_lem.explode().astype(str))\n",
    "\n",
    "non_brand_tokens = [word for word in tokens_apple_pos if word not in apple_words and word not in google_words]"
   ]
  },
  {
   "cell_type": "code",
   "execution_count": 44,
   "id": "6eddcd0f",
   "metadata": {},
   "outputs": [
    {
     "data": {
      "image/png": "[encoded data removed]",
      "text/plain": [
       "<Figure size 864x1080 with 1 Axes>"
      ]
     },
     "metadata": {
      "needs_background": "light"
     },
     "output_type": "display_data"
    }
   ],
   "source": [
    "# instantiate wordcloud\n",
    "wordcloud = WordCloud(\n",
    "    width=500,\n",
    "    height=300,\n",
    "    collocations = True\n",
    ")\n",
    "\n",
    "# generate wordcloud\n",
    "wordcloud.generate(','.join(non_brand_tokens))\n",
    "\n",
    "# plot wordcloud\n",
    "\n",
    "plt.figure(figsize = (12, 15), facecolor = None) \n",
    "plt.imshow(wordcloud) \n",
    "plt.axis('off');"
   ]
  },
  {
   "cell_type": "code",
   "execution_count": 45,
   "id": "3105b002",
   "metadata": {},
   "outputs": [
    {
     "ename": "NameError",
     "evalue": "name 'error' is not defined",
     "output_type": "error",
     "traceback": [
      "\u001b[0;31m---------------------------------------------------------------------------\u001b[0m",
      "\u001b[0;31mNameError\u001b[0m                                 Traceback (most recent call last)",
      "\u001b[0;32m<ipython-input-45-ded28046d863>\u001b[0m in \u001b[0;36m<module>\u001b[0;34m\u001b[0m\n\u001b[0;32m----> 1\u001b[0;31m \u001b[0merror\u001b[0m\u001b[0;34m\u001b[0m\u001b[0;34m\u001b[0m\u001b[0m\n\u001b[0m",
      "\u001b[0;31mNameError\u001b[0m: name 'error' is not defined"
     ]
    }
   ],
   "source": [
    "error"
   ]
  },
  {
   "cell_type": "code",
   "execution_count": null,
   "id": "2bce4309",
   "metadata": {},
   "outputs": [],
   "source": [
    "# create feature of tokenized text\n",
    "df.loc[:, 'text_tokenized'] = df['text'].apply(tokenizer.tokenize)\n",
    "# make vocabulary from set of words\n",
    "vocab_raw = set(df['text_tokenized'].explode())\n",
    "# show size of raw vocabulary\n",
    "print('Size of raw vocabulary:', len(vocab_raw))   "
   ]
  },
  {
   "cell_type": "code",
   "execution_count": null,
   "id": "ac5f68b7",
   "metadata": {},
   "outputs": [],
   "source": []
  },
  {
   "cell_type": "markdown",
   "id": "9b407f57",
   "metadata": {},
   "source": [
    "# CONSIDER LABELING SENTIMENT AS A BINARY\n",
    "\n",
    "In order to reduce the class imbalance and generally simplify the work, we'll change the sentiment labels to a binary system of 1 for positive and 0 for everything else."
   ]
  },
  {
   "cell_type": "code",
   "execution_count": null,
   "id": "13917c73",
   "metadata": {},
   "outputs": [],
   "source": [
    "# make sentiment binary\n",
    "df['sentiment'].replace({'No emotion toward brand or product': 0,\n",
    "                         'Positive emotion': 1,\n",
    "                         'Negative emotion': 0,\n",
    "                         \"I can't tell\": 0\n",
    "                        }, inplace=True)"
   ]
  },
  {
   "cell_type": "code",
   "execution_count": null,
   "id": "f23529a6",
   "metadata": {},
   "outputs": [],
   "source": [
    "# show breakdown of sentiment after merging\n",
    "round(df.sentiment.value_counts(normalize=True),4)"
   ]
  },
  {
   "cell_type": "markdown",
   "id": "516e1618",
   "metadata": {},
   "source": [
    "## Train and test sets"
   ]
  },
  {
   "cell_type": "code",
   "execution_count": null,
   "id": "a9e5123e",
   "metadata": {},
   "outputs": [],
   "source": [
    "# split the data into target (sentiment) and predictor (text)\n",
    "X, y = df['text'].to_frame(), df['sentiment']\n",
    "# split the data into train and test sets\n",
    "# set random state for reproducibility\n",
    "X_train, X_test, y_train, y_test = train_test_split(X, y, test_size=0.2, random_state=9)"
   ]
  },
  {
   "cell_type": "markdown",
   "id": "582c5b98",
   "metadata": {},
   "source": [
    "# REVISIT THIS\n",
    "\n",
    "add label to X_train for research purposes .. obviously don't include this in the model\n",
    "\n",
    "reset index to anticipate future problems ... or not reset the index???"
   ]
  },
  {
   "cell_type": "code",
   "execution_count": null,
   "id": "e3e79a71",
   "metadata": {},
   "outputs": [],
   "source": [
    "X_train.loc[:, 'sentiment'] = [y_train.loc[val] for val in X_train.index]"
   ]
  },
  {
   "cell_type": "markdown",
   "id": "e374e2af",
   "metadata": {},
   "source": [
    "## Tokenize\n",
    "\n",
    "We'll establish a token pattern that will separate each tweet into a list of tokens at least 2 letters long and ignore punctuation characters."
   ]
  },
  {
   "cell_type": "code",
   "execution_count": null,
   "id": "ad708c10",
   "metadata": {},
   "outputs": [],
   "source": [
    "# make tokenizer\n",
    "basic_token_pattern = r\"(?u)\\b\\w\\w+\\b\"\n",
    "tokenizer = RegexpTokenizer(basic_token_pattern)"
   ]
  },
  {
   "cell_type": "markdown",
   "id": "a0b37671",
   "metadata": {},
   "source": [
    "We'll make a new column whose values will be the list of tokens from each text value. Then we can group these tokens/words together into a vocabulary."
   ]
  },
  {
   "cell_type": "code",
   "execution_count": null,
   "id": "1e40ce21",
   "metadata": {},
   "outputs": [],
   "source": [
    "# create feature of tokenized text\n",
    "X_train.loc[:, 'text_tokenized'] = X_train['text'].apply(tokenizer.tokenize)\n",
    "# make vocabulary from set of words\n",
    "vocab_raw = set(X_train['text_tokenized'].explode())\n",
    "# show size of raw vocabulary\n",
    "print('Size of raw vocabulary:', len(vocab_raw))   "
   ]
  },
  {
   "cell_type": "markdown",
   "id": "30384572",
   "metadata": {},
   "source": [
    "# Modeling\n",
    "\n",
    "## Baseline model\n",
    "\n",
    "We'll use multinomial naive Bayes for our baseline model and feed it the 10 most common tokens."
   ]
  },
  {
   "cell_type": "code",
   "execution_count": null,
   "id": "f1a9597f",
   "metadata": {},
   "outputs": [],
   "source": [
    "# instantiate model\n",
    "baseline_model = MultinomialNB()"
   ]
  },
  {
   "cell_type": "markdown",
   "id": "29df6699",
   "metadata": {},
   "source": [
    "It will be instructive to recall the percentage of the plurality in the target feature (sentiment). Models should be evaluated in relation to this."
   ]
  },
  {
   "cell_type": "code",
   "execution_count": null,
   "id": "7e9dd59d",
   "metadata": {},
   "outputs": [],
   "source": [
    "# save this value to compare to future model crossval scores\n",
    "plurality_cv = round(y_train.value_counts(normalize=True)[0],4)\n",
    "# show the sentiment breakdown\n",
    "round(y_train.value_counts(normalize=True),4)"
   ]
  },
  {
   "cell_type": "markdown",
   "id": "d4bdc86f",
   "metadata": {},
   "source": [
    "Accuracy of future models should exceed the higher of these values, since we know that, at worst, a model could just predict all sentiments are \"nonpositive\" and achieve this accuracy score.\n",
    "\n",
    "We'll run the first model and compare the score to this plurality."
   ]
  },
  {
   "cell_type": "code",
   "execution_count": null,
   "id": "ef9055f0",
   "metadata": {},
   "outputs": [],
   "source": [
    "tfidf = TfidfVectorizer(\n",
    "    max_features = 10\n",
    ")\n",
    "\n",
    "X_train_vectorized = tfidf.fit_transform(X_train['text'])\n",
    "\n",
    "baseline_cv = round(cross_val_score(baseline_model, X_train_vectorized, y_train).mean(),4)\n",
    "\n",
    "print('Plurality:', plurality_cv,\n",
    "      '\\nBaseline: ',baseline_cv)"
   ]
  },
  {
   "cell_type": "markdown",
   "id": "92bd42c1",
   "metadata": {},
   "source": [
    "This did not improve on plurality at all.\n",
    "\n",
    "Let's look at what words it was using."
   ]
  },
  {
   "cell_type": "code",
   "execution_count": null,
   "id": "4fbff16a",
   "metadata": {},
   "outputs": [],
   "source": [
    "def plot_words(column, title):\n",
    "\n",
    "    fig = plt.figure(figsize=(15, 5))\n",
    "    fig.set_tight_layout(True)\n",
    "    gs = fig.add_gridspec(1, 2)\n",
    "    ax1 = fig.add_subplot(gs[0, :1])\n",
    "    ax2 = fig.add_subplot(gs[0, 1:2])\n",
    "\n",
    "    axes = [ax1, ax2]\n",
    "\n",
    "    for index, category in enumerate(y_train.unique()):\n",
    "\n",
    "        all_words = X_train[X_train['sentiment'] == category][column].explode()\n",
    "        freq_dist = FreqDist(all_words)\n",
    "        top_10 = list(zip(*freq_dist.most_common(10)))\n",
    "        tokens = top_10[0]\n",
    "        counts = top_10[1]\n",
    "\n",
    "        ax = axes[index]\n",
    "        ax.bar(tokens, counts)\n",
    "\n",
    "        ax.set_title(f\"{title} {category}\")\n",
    "        ax.set_ylabel(\"Count\")\n",
    "        ax.yaxis.set_major_locator(MaxNLocator(integer=True))\n",
    "        ax.tick_params(axis=\"x\", rotation=90)"
   ]
  },
  {
   "cell_type": "code",
   "execution_count": null,
   "id": "f71ab18c",
   "metadata": {},
   "outputs": [],
   "source": [
    "plot_words('text_tokenized', 'sentiment =')"
   ]
  },
  {
   "cell_type": "markdown",
   "id": "da311ecc",
   "metadata": {},
   "source": [
    "It's not surprising that these words did not yield useful results, as they're very common."
   ]
  },
  {
   "cell_type": "markdown",
   "id": "cc7217e8",
   "metadata": {},
   "source": [
    "## All words model\n",
    "\n",
    "We'll see if anything changes when we feed the model all possible tokens rather than just the 10 most common ones."
   ]
  },
  {
   "cell_type": "code",
   "execution_count": null,
   "id": "275a7345",
   "metadata": {},
   "outputs": [],
   "source": [
    "tfidf = TfidfVectorizer()\n",
    "\n",
    "X_train_vectorized = tfidf.fit_transform(X_train['text'])\n",
    "\n",
    "all_words_cv = round(cross_val_score(baseline_model, X_train_vectorized, y_train).mean(),4)\n",
    "\n",
    "print('Plurality:', plurality_cv,\n",
    "      '\\nBaseline: ',baseline_cv,\n",
    "      '\\nAll Words:',all_words_cv\n",
    "     )"
   ]
  },
  {
   "cell_type": "markdown",
   "id": "24739bf6",
   "metadata": {},
   "source": [
    "This did indeed improve the accuracy.\n",
    "\n",
    "Let's see what words it scored as most useful by their tfidf scores."
   ]
  },
  {
   "cell_type": "code",
   "execution_count": null,
   "id": "25391966",
   "metadata": {},
   "outputs": [],
   "source": [
    "# create the word list from this vectorizer with new index\n",
    "feature_names = np.array(tfidf.get_feature_names())\n",
    "# create array of the indices of the feature_names array, ordered by tfidf score\n",
    "sorted_tfidf_index = X_train_vectorized.max(0).toarray()[0].argsort()\n",
    "# create frequency distribution (dictionary) of 1-grams\n",
    "all_words_freq_dist = FreqDist(X_train['text_tokenized'].explode())"
   ]
  },
  {
   "cell_type": "code",
   "execution_count": null,
   "id": "f52f3f59",
   "metadata": {},
   "outputs": [],
   "source": [
    "# show the words with the top 10 tfidf values, and their tfidf values\n",
    "print('10 most useful words', '\\n\\ntfidf | frequency | word\\n')\n",
    "for n in range(-1,-11,-1):\n",
    "    index = sorted_tfidf_index[n]\n",
    "    print(\n",
    "        round(X_train_vectorized.max(0).toarray()[0][index],4),\n",
    "        all_words_freq_dist[feature_names[index]],\n",
    "        feature_names[index]\n",
    "         )\n",
    "# show the words with the bottom 5 tfidf values, and their tfidf values\n",
    "print('\\n5 least useful words', '\\n\\ntfidf | frequency | word\\n')\n",
    "for n in range(5):\n",
    "    index = sorted_tfidf_index[n]\n",
    "    print(\n",
    "        round(X_train_vectorized.max(0).toarray()[0][index],4),\n",
    "        all_words_freq_dist[feature_names[index]],\n",
    "        feature_names[index]\n",
    "         )      "
   ]
  },
  {
   "cell_type": "markdown",
   "id": "d26e3ad0",
   "metadata": {},
   "source": [
    "## Stemmed and lemmatized model\n",
    "\n",
    "Now we'll stem and lemmatize the tokens."
   ]
  },
  {
   "cell_type": "code",
   "execution_count": null,
   "id": "31ed976a",
   "metadata": {},
   "outputs": [],
   "source": [
    "# instantiate a stemmer and lemmatizer\n",
    "stemmer = SnowballStemmer(language=\"english\")\n",
    "lemmatizer = WordNetLemmatizer()"
   ]
  },
  {
   "cell_type": "code",
   "execution_count": null,
   "id": "89cd7182",
   "metadata": {},
   "outputs": [],
   "source": [
    "# make a function that tokenizes, stems and lemmatizes a document\n",
    "def stem_and_lemmatize_and_tokenize(document):\n",
    "    tokens = tokenizer.tokenize(document)\n",
    "    return [lemmatizer.lemmatize(stemmer.stem(token)) for token in tokens]"
   ]
  },
  {
   "cell_type": "code",
   "execution_count": null,
   "id": "0cb18eb8",
   "metadata": {
    "scrolled": false
   },
   "outputs": [],
   "source": [
    "# create a column whose values are a list of stemmed and lemmatized words\n",
    "X_train.loc[:, 'stem_lemma_list'] = X_train.loc[:, 'text'].apply(stem_and_lemmatize_and_tokenize)\n",
    "# make vocabulary from set of words\n",
    "vocab_stemmed_and_lemmatized = set(X_train['stem_lemma_list'].explode())\n",
    "# compare vocabulary sizes\n",
    "print('Size of raw vocabulary:                   ', len(vocab_raw),\n",
    "      '\\nSize of stemmed and lemmatized vocabulary:', len(vocab_stemmed_and_lemmatized)\n",
    "     )"
   ]
  },
  {
   "cell_type": "markdown",
   "id": "060ce1a8",
   "metadata": {},
   "source": [
    "The stemmed and lemmatized vocabulary is significantly smaller. We can now investigate whether this has introduced new duplicate values for the stemmed and lemmatized text.\n",
    "\n",
    "The feature we just created contains *lists* of lemmatized words. In order to find out whether we have duplicates, we'll need to reassemble "
   ]
  },
  {
   "cell_type": "code",
   "execution_count": null,
   "id": "c0d22320",
   "metadata": {},
   "outputs": [],
   "source": [
    "X_train.duplicated(subset=['stem_lemma_list']).value_counts()"
   ]
  },
  {
   "cell_type": "markdown",
   "id": "78892966",
   "metadata": {},
   "source": [
    "# WHAT TO DO ABOUT NEW DUPLICATES?"
   ]
  },
  {
   "cell_type": "code",
   "execution_count": null,
   "id": "1e78721f",
   "metadata": {},
   "outputs": [],
   "source": [
    "tfidf = TfidfVectorizer(\n",
    "    tokenizer = stem_and_lemmatize_and_tokenize\n",
    ")\n",
    "\n",
    "X_train_vectorized = tfidf.fit_transform(X_train['text'])\n",
    "\n",
    "stemmed_and_lemmatized_words_cv = round(cross_val_score(baseline_model, X_train_vectorized, y_train).mean(),4)\n",
    "\n",
    "print('Baseline:                    ',baseline_cv,\n",
    "      '\\nAll Words:                   ',all_words_cv,\n",
    "      '\\nStemmed and Lemmatized Words:', stemmed_and_lemmatized_words_cv\n",
    "     )"
   ]
  },
  {
   "cell_type": "markdown",
   "id": "3e0363f3",
   "metadata": {},
   "source": [
    "It appears that feeding it lemmatized words just slightly decreased accuracy.\n",
    "\n",
    "We know that the top 10 baseline model suffered because the most frequent words were useless. Let's experiment with a maximum document frequency."
   ]
  },
  {
   "cell_type": "code",
   "execution_count": null,
   "id": "83925264",
   "metadata": {},
   "outputs": [],
   "source": [
    "max_df_vals = np.linspace(1/100, 1, 100)\n",
    "max_df_scores = []\n",
    "for max_df in max_df_vals:\n",
    "    tfidf = TfidfVectorizer(\n",
    "        max_df = max_df\n",
    "    )\n",
    "\n",
    "    X_train_vectorized = tfidf.fit_transform(X_train['text'])\n",
    "\n",
    "    max_df_scores.append(round(cross_val_score(baseline_model, X_train_vectorized, y_train).mean(),4))\n"
   ]
  },
  {
   "cell_type": "code",
   "execution_count": null,
   "id": "3ba65605",
   "metadata": {},
   "outputs": [],
   "source": [
    "plt.scatter(max_df_vals, max_df_scores)\n",
    "plt.ticklabel_format(axis='both', style='plain')"
   ]
  },
  {
   "cell_type": "code",
   "execution_count": null,
   "id": "7a83d63f",
   "metadata": {},
   "outputs": [],
   "source": [
    "tfidf = TfidfVectorizer(\n",
    "    tokenizer = stem_and_lemmatize_and_tokenize,\n",
    "    min_df = 2,\n",
    "    max_df = .02\n",
    ")\n",
    "\n",
    "X_train_vectorized = tfidf.fit_transform(X_train['text'])\n",
    "\n",
    "stemmed_and_lemmatized_words_cv = round(cross_val_score(baseline_model, X_train_vectorized, y_train).mean(),4)\n",
    "\n",
    "print('Plurality:                   ', plurality_cv,\n",
    "      '\\nStemmed and Lemmatized Words:', stemmed_and_lemmatized_words_cv\n",
    "     )"
   ]
  }
 ],
 "metadata": {
  "kernelspec": {
   "display_name": "Python (learn-env)",
   "language": "python",
   "name": "learn-env"
  },
  "language_info": {
   "codemirror_mode": {
    "name": "ipython",
    "version": 3
   },
   "file_extension": ".py",
   "mimetype": "text/x-python",
   "name": "python",
   "nbconvert_exporter": "python",
   "pygments_lexer": "ipython3",
   "version": "3.8.5"
  }
 },
 "nbformat": 4,
 "nbformat_minor": 5
}
